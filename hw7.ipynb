{
 "cells": [
  {
   "cell_type": "markdown",
   "metadata": {},
   "source": [
    "# Homework 7: Pandas and Seaborn(27 pts)"
   ]
  },
  {
   "cell_type": "markdown",
   "metadata": {
    "slideshow": {
     "slide_type": ""
    },
    "tags": []
   },
   "source": [
    "name: Robert Frazier\n",
    "\n",
    "email: robertcf@umich.edu\n",
    "\n",
    "This homework assignment took me XX hours in total to complete. (Please help us to gauge the difficulty of the assignment.)"
   ]
  },
  {
   "cell_type": "markdown",
   "metadata": {},
   "source": [
    "## Collaboration Disclosure\n",
    "\n",
    "In the cell below, please list *everyone* with whom you discussed any of the homework problems, excluding only the GSIs and the course instructor. \n",
    "\n",
    "If you did not discuss the homework with anyone else, write __\"I did not discuss this homework with anyone.\"__\n",
    "\n",
    "Even if you discuss questions with other, the code you submit must be only yours. All work is checked with the [MOSS plagiarism detector](https://theory.stanford.edu/~aiken/moss/)."
   ]
  },
  {
   "cell_type": "markdown",
   "metadata": {},
   "source": [
    "---"
   ]
  },
  {
   "cell_type": "markdown",
   "metadata": {
    "editable": false,
    "slideshow": {
     "slide_type": ""
    },
    "tags": []
   },
   "source": [
    "## Submission Instructions\n",
    "Your homework solutions should be written entirely in this Jupyter notebook file. Once it contains your solutions, you should submit this notebook through Canvas. \n",
    "\n",
    "\n",
    "Before submitting, please make sure to __Cells->Run All__ executes without errors; errors in your code translate directly to point deductions. \n",
    "In general, you don't need to do explicitly raise errors (e.g. with the ```raise``` function) if we don't ask you to in the problem statement.\n",
    "However, even in cases where we ask you to check for errors, your submission should not contain any examples of your functions actually raising those errors.\n",
    "\n",
    "Note that many parts of this homework where you are expected to type in code will have ```NotImplementedError()``` as a placeholder. You need to delete this function and replace it with your own code.\n",
    "\n",
    "## Homework tips \n",
    "\n",
    "1. **Start early!** If you run into trouble installing things or importing packages, it’s\n",
    "best to find those problems well in advance, not the night before your assignment is\n",
    "due when we cannot help you!\n",
    "\n",
    "2. **Make sure you back up your work!** At a minimum, do your work in a Dropbox\n",
    "folder. Better yet, use git, which is well worth your time and effort to learn.\n",
    "\n",
    "3. **Be careful to follow directions!** Remember that Python is case sensitive. If\n",
    "you are ask you to define a function called my_function and you define a function\n",
    "called My_Function, you will not receive full credit. You may want to copy-paste\n",
    "the function names below to make sure that the functions in your notebook match.\n",
    "\n",
    "## Error checking\n",
    "\n",
    "You do not need to do error checking (raising errors, etc.) in your code unless we explicitly ask you to so in a problem.\n",
    "\n",
    "\n",
    "## Nbgrader\n",
    "\n",
    "We will be using `nbgrader` to grade your jupyter notebook. You will notice some `read-only` cells in the assignment that contain `assert` statements. These are tests that your code must pass for your solution to be correct. If any of the tests fail, you will get an python error and not get points for that question. \n",
    "\n",
    "**Note:** The tests shown not are not comprehensive; additional tests will be used at grading time. You are encouraged to read the problem carefully and verify your code covers all possible cases.\n",
    "\n",
    "**Be careful:** If a jupyter notebook cell takes longer than `60s` to run, the autograder will not grade it and you will receive zero credit for that question."
   ]
  },
  {
   "cell_type": "markdown",
   "metadata": {},
   "source": [
    "# Question 1 (18 pts) \n",
    "We will look into the NYC flights dataset using Pandas!"
   ]
  },
  {
   "cell_type": "markdown",
   "metadata": {
    "deletable": false,
    "editable": false,
    "nbgrader": {
     "cell_type": "markdown",
     "checksum": "86fe8e27a06c8ead5186e89da061637f",
     "grade": false,
     "grade_id": "cell-e10bd26a8687d9ce",
     "locked": true,
     "schema_version": 3,
     "solution": false,
     "task": false
    }
   },
   "source": [
    "## Question 1.1 (2 pts)\n",
    "Load the dataset from flights.csv file given with this file into a dataframe variable named `df`"
   ]
  },
  {
   "cell_type": "code",
   "execution_count": 1,
   "metadata": {
    "deletable": false,
    "nbgrader": {
     "cell_type": "code",
     "checksum": "798358f035e595b109860e8b0097cd6e",
     "grade": false,
     "grade_id": "is_stable",
     "locked": false,
     "schema_version": 3,
     "solution": true
    },
    "slideshow": {
     "slide_type": ""
    },
    "tags": []
   },
   "outputs": [],
   "source": [
    "import pandas as pd\n",
    "import numpy as np\n",
    "df = pd.read_csv(\"flights.csv\", sep = \",\")"
   ]
  },
  {
   "cell_type": "code",
   "execution_count": 2,
   "metadata": {},
   "outputs": [
    {
     "data": {
      "text/html": [
       "<div>\n",
       "<style scoped>\n",
       "    .dataframe tbody tr th:only-of-type {\n",
       "        vertical-align: middle;\n",
       "    }\n",
       "\n",
       "    .dataframe tbody tr th {\n",
       "        vertical-align: top;\n",
       "    }\n",
       "\n",
       "    .dataframe thead th {\n",
       "        text-align: right;\n",
       "    }\n",
       "</style>\n",
       "<table border=\"1\" class=\"dataframe\">\n",
       "  <thead>\n",
       "    <tr style=\"text-align: right;\">\n",
       "      <th></th>\n",
       "      <th>year</th>\n",
       "      <th>month</th>\n",
       "      <th>day</th>\n",
       "      <th>dep_time</th>\n",
       "      <th>sched_dep_time</th>\n",
       "      <th>dep_delay</th>\n",
       "      <th>arr_time</th>\n",
       "      <th>sched_arr_time</th>\n",
       "      <th>arr_delay</th>\n",
       "      <th>carrier</th>\n",
       "      <th>flight</th>\n",
       "      <th>tailnum</th>\n",
       "      <th>origin</th>\n",
       "      <th>dest</th>\n",
       "      <th>air_time</th>\n",
       "      <th>distance</th>\n",
       "      <th>hour</th>\n",
       "      <th>minute</th>\n",
       "      <th>time_hour</th>\n",
       "    </tr>\n",
       "  </thead>\n",
       "  <tbody>\n",
       "    <tr>\n",
       "      <th>0</th>\n",
       "      <td>2013</td>\n",
       "      <td>1</td>\n",
       "      <td>1</td>\n",
       "      <td>517.0</td>\n",
       "      <td>515</td>\n",
       "      <td>2.0</td>\n",
       "      <td>830.0</td>\n",
       "      <td>819</td>\n",
       "      <td>11.0</td>\n",
       "      <td>UA</td>\n",
       "      <td>1545</td>\n",
       "      <td>N14228</td>\n",
       "      <td>EWR</td>\n",
       "      <td>IAH</td>\n",
       "      <td>227.0</td>\n",
       "      <td>1400.0</td>\n",
       "      <td>5.0</td>\n",
       "      <td>15.0</td>\n",
       "      <td>1.357034e+09</td>\n",
       "    </tr>\n",
       "    <tr>\n",
       "      <th>1</th>\n",
       "      <td>2013</td>\n",
       "      <td>1</td>\n",
       "      <td>1</td>\n",
       "      <td>533.0</td>\n",
       "      <td>529</td>\n",
       "      <td>4.0</td>\n",
       "      <td>850.0</td>\n",
       "      <td>830</td>\n",
       "      <td>20.0</td>\n",
       "      <td>UA</td>\n",
       "      <td>1714</td>\n",
       "      <td>N24211</td>\n",
       "      <td>LGA</td>\n",
       "      <td>IAH</td>\n",
       "      <td>227.0</td>\n",
       "      <td>1416.0</td>\n",
       "      <td>5.0</td>\n",
       "      <td>29.0</td>\n",
       "      <td>1.357034e+09</td>\n",
       "    </tr>\n",
       "    <tr>\n",
       "      <th>2</th>\n",
       "      <td>2013</td>\n",
       "      <td>1</td>\n",
       "      <td>1</td>\n",
       "      <td>542.0</td>\n",
       "      <td>540</td>\n",
       "      <td>2.0</td>\n",
       "      <td>923.0</td>\n",
       "      <td>850</td>\n",
       "      <td>33.0</td>\n",
       "      <td>AA</td>\n",
       "      <td>1141</td>\n",
       "      <td>N619AA</td>\n",
       "      <td>JFK</td>\n",
       "      <td>MIA</td>\n",
       "      <td>160.0</td>\n",
       "      <td>1089.0</td>\n",
       "      <td>5.0</td>\n",
       "      <td>40.0</td>\n",
       "      <td>1.357034e+09</td>\n",
       "    </tr>\n",
       "    <tr>\n",
       "      <th>3</th>\n",
       "      <td>2013</td>\n",
       "      <td>1</td>\n",
       "      <td>1</td>\n",
       "      <td>544.0</td>\n",
       "      <td>545</td>\n",
       "      <td>-1.0</td>\n",
       "      <td>1004.0</td>\n",
       "      <td>1022</td>\n",
       "      <td>-18.0</td>\n",
       "      <td>B6</td>\n",
       "      <td>725</td>\n",
       "      <td>N804JB</td>\n",
       "      <td>JFK</td>\n",
       "      <td>BQN</td>\n",
       "      <td>183.0</td>\n",
       "      <td>1576.0</td>\n",
       "      <td>5.0</td>\n",
       "      <td>45.0</td>\n",
       "      <td>1.357034e+09</td>\n",
       "    </tr>\n",
       "    <tr>\n",
       "      <th>4</th>\n",
       "      <td>2013</td>\n",
       "      <td>1</td>\n",
       "      <td>1</td>\n",
       "      <td>554.0</td>\n",
       "      <td>600</td>\n",
       "      <td>-6.0</td>\n",
       "      <td>812.0</td>\n",
       "      <td>837</td>\n",
       "      <td>-25.0</td>\n",
       "      <td>DL</td>\n",
       "      <td>461</td>\n",
       "      <td>N668DN</td>\n",
       "      <td>LGA</td>\n",
       "      <td>ATL</td>\n",
       "      <td>116.0</td>\n",
       "      <td>762.0</td>\n",
       "      <td>6.0</td>\n",
       "      <td>0.0</td>\n",
       "      <td>1.357038e+09</td>\n",
       "    </tr>\n",
       "    <tr>\n",
       "      <th>...</th>\n",
       "      <td>...</td>\n",
       "      <td>...</td>\n",
       "      <td>...</td>\n",
       "      <td>...</td>\n",
       "      <td>...</td>\n",
       "      <td>...</td>\n",
       "      <td>...</td>\n",
       "      <td>...</td>\n",
       "      <td>...</td>\n",
       "      <td>...</td>\n",
       "      <td>...</td>\n",
       "      <td>...</td>\n",
       "      <td>...</td>\n",
       "      <td>...</td>\n",
       "      <td>...</td>\n",
       "      <td>...</td>\n",
       "      <td>...</td>\n",
       "      <td>...</td>\n",
       "      <td>...</td>\n",
       "    </tr>\n",
       "    <tr>\n",
       "      <th>336771</th>\n",
       "      <td>2013</td>\n",
       "      <td>9</td>\n",
       "      <td>30</td>\n",
       "      <td>NaN</td>\n",
       "      <td>1455</td>\n",
       "      <td>NaN</td>\n",
       "      <td>NaN</td>\n",
       "      <td>1634</td>\n",
       "      <td>NaN</td>\n",
       "      <td>9E</td>\n",
       "      <td>3393</td>\n",
       "      <td>NaN</td>\n",
       "      <td>JFK</td>\n",
       "      <td>DCA</td>\n",
       "      <td>NaN</td>\n",
       "      <td>213.0</td>\n",
       "      <td>14.0</td>\n",
       "      <td>55.0</td>\n",
       "      <td>1.380564e+09</td>\n",
       "    </tr>\n",
       "    <tr>\n",
       "      <th>336772</th>\n",
       "      <td>2013</td>\n",
       "      <td>9</td>\n",
       "      <td>30</td>\n",
       "      <td>NaN</td>\n",
       "      <td>2200</td>\n",
       "      <td>NaN</td>\n",
       "      <td>NaN</td>\n",
       "      <td>2312</td>\n",
       "      <td>NaN</td>\n",
       "      <td>9E</td>\n",
       "      <td>3525</td>\n",
       "      <td>NaN</td>\n",
       "      <td>LGA</td>\n",
       "      <td>SYR</td>\n",
       "      <td>NaN</td>\n",
       "      <td>198.0</td>\n",
       "      <td>22.0</td>\n",
       "      <td>0.0</td>\n",
       "      <td>1.380593e+09</td>\n",
       "    </tr>\n",
       "    <tr>\n",
       "      <th>336773</th>\n",
       "      <td>2013</td>\n",
       "      <td>9</td>\n",
       "      <td>30</td>\n",
       "      <td>NaN</td>\n",
       "      <td>1210</td>\n",
       "      <td>NaN</td>\n",
       "      <td>NaN</td>\n",
       "      <td>1330</td>\n",
       "      <td>NaN</td>\n",
       "      <td>MQ</td>\n",
       "      <td>3461</td>\n",
       "      <td>N535MQ</td>\n",
       "      <td>LGA</td>\n",
       "      <td>BNA</td>\n",
       "      <td>NaN</td>\n",
       "      <td>764.0</td>\n",
       "      <td>12.0</td>\n",
       "      <td>10.0</td>\n",
       "      <td>1.380557e+09</td>\n",
       "    </tr>\n",
       "    <tr>\n",
       "      <th>336774</th>\n",
       "      <td>2013</td>\n",
       "      <td>9</td>\n",
       "      <td>30</td>\n",
       "      <td>NaN</td>\n",
       "      <td>1159</td>\n",
       "      <td>NaN</td>\n",
       "      <td>NaN</td>\n",
       "      <td>1344</td>\n",
       "      <td>NaN</td>\n",
       "      <td>MQ</td>\n",
       "      <td>3572</td>\n",
       "      <td>N511MQ</td>\n",
       "      <td>LGA</td>\n",
       "      <td>CLE</td>\n",
       "      <td>NaN</td>\n",
       "      <td>419.0</td>\n",
       "      <td>11.0</td>\n",
       "      <td>59.0</td>\n",
       "      <td>1.380553e+09</td>\n",
       "    </tr>\n",
       "    <tr>\n",
       "      <th>336775</th>\n",
       "      <td>2013</td>\n",
       "      <td>9</td>\n",
       "      <td>30</td>\n",
       "      <td>NaN</td>\n",
       "      <td>840</td>\n",
       "      <td>NaN</td>\n",
       "      <td>NaN</td>\n",
       "      <td>1020</td>\n",
       "      <td>NaN</td>\n",
       "      <td>MQ</td>\n",
       "      <td>3531</td>\n",
       "      <td>N839MQ</td>\n",
       "      <td>LGA</td>\n",
       "      <td>RDU</td>\n",
       "      <td>NaN</td>\n",
       "      <td>431.0</td>\n",
       "      <td>8.0</td>\n",
       "      <td>40.0</td>\n",
       "      <td>1.380542e+09</td>\n",
       "    </tr>\n",
       "  </tbody>\n",
       "</table>\n",
       "<p>336776 rows × 19 columns</p>\n",
       "</div>"
      ],
      "text/plain": [
       "        year  month  day  dep_time  sched_dep_time  dep_delay  arr_time  \\\n",
       "0       2013      1    1     517.0             515        2.0     830.0   \n",
       "1       2013      1    1     533.0             529        4.0     850.0   \n",
       "2       2013      1    1     542.0             540        2.0     923.0   \n",
       "3       2013      1    1     544.0             545       -1.0    1004.0   \n",
       "4       2013      1    1     554.0             600       -6.0     812.0   \n",
       "...      ...    ...  ...       ...             ...        ...       ...   \n",
       "336771  2013      9   30       NaN            1455        NaN       NaN   \n",
       "336772  2013      9   30       NaN            2200        NaN       NaN   \n",
       "336773  2013      9   30       NaN            1210        NaN       NaN   \n",
       "336774  2013      9   30       NaN            1159        NaN       NaN   \n",
       "336775  2013      9   30       NaN             840        NaN       NaN   \n",
       "\n",
       "        sched_arr_time  arr_delay carrier  flight tailnum origin dest  \\\n",
       "0                  819       11.0      UA    1545  N14228    EWR  IAH   \n",
       "1                  830       20.0      UA    1714  N24211    LGA  IAH   \n",
       "2                  850       33.0      AA    1141  N619AA    JFK  MIA   \n",
       "3                 1022      -18.0      B6     725  N804JB    JFK  BQN   \n",
       "4                  837      -25.0      DL     461  N668DN    LGA  ATL   \n",
       "...                ...        ...     ...     ...     ...    ...  ...   \n",
       "336771            1634        NaN      9E    3393     NaN    JFK  DCA   \n",
       "336772            2312        NaN      9E    3525     NaN    LGA  SYR   \n",
       "336773            1330        NaN      MQ    3461  N535MQ    LGA  BNA   \n",
       "336774            1344        NaN      MQ    3572  N511MQ    LGA  CLE   \n",
       "336775            1020        NaN      MQ    3531  N839MQ    LGA  RDU   \n",
       "\n",
       "        air_time  distance  hour  minute     time_hour  \n",
       "0          227.0    1400.0   5.0    15.0  1.357034e+09  \n",
       "1          227.0    1416.0   5.0    29.0  1.357034e+09  \n",
       "2          160.0    1089.0   5.0    40.0  1.357034e+09  \n",
       "3          183.0    1576.0   5.0    45.0  1.357034e+09  \n",
       "4          116.0     762.0   6.0     0.0  1.357038e+09  \n",
       "...          ...       ...   ...     ...           ...  \n",
       "336771       NaN     213.0  14.0    55.0  1.380564e+09  \n",
       "336772       NaN     198.0  22.0     0.0  1.380593e+09  \n",
       "336773       NaN     764.0  12.0    10.0  1.380557e+09  \n",
       "336774       NaN     419.0  11.0    59.0  1.380553e+09  \n",
       "336775       NaN     431.0   8.0    40.0  1.380542e+09  \n",
       "\n",
       "[336776 rows x 19 columns]"
      ]
     },
     "execution_count": 2,
     "metadata": {},
     "output_type": "execute_result"
    }
   ],
   "source": [
    "df"
   ]
  },
  {
   "cell_type": "code",
   "execution_count": 3,
   "metadata": {
    "deletable": false,
    "editable": false,
    "nbgrader": {
     "cell_type": "code",
     "checksum": "e5df482940b68151c9ac68d4e5c00e11",
     "grade": true,
     "grade_id": "load_ds",
     "locked": false,
     "points": 2,
     "schema_version": 3,
     "solution": false
    },
    "slideshow": {
     "slide_type": ""
    },
    "tags": []
   },
   "outputs": [],
   "source": [
    "assert df is not None\n",
    "assert isinstance(df, pd.core.frame.DataFrame)"
   ]
  },
  {
   "cell_type": "markdown",
   "metadata": {},
   "source": [
    "## Question 1.2 (2 pts)\n",
    "Get the total count of flights for each month and display the top three months with the highest count."
   ]
  },
  {
   "cell_type": "code",
   "execution_count": 4,
   "metadata": {
    "deletable": false,
    "nbgrader": {
     "cell_type": "code",
     "checksum": "43caca3ab3fb13b3e3c09bba223dae5e",
     "grade": false,
     "grade_id": "count",
     "locked": false,
     "schema_version": 3,
     "solution": true
    },
    "slideshow": {
     "slide_type": ""
    },
    "tags": []
   },
   "outputs": [],
   "source": [
    "monthly_count = df[\"month\"].value_counts().nlargest(3)\n"
   ]
  },
  {
   "cell_type": "code",
   "execution_count": 5,
   "metadata": {
    "deletable": false,
    "editable": false,
    "nbgrader": {
     "cell_type": "code",
     "checksum": "496ce59f279a826589e209fe2a80f448",
     "grade": true,
     "grade_id": "count_month",
     "locked": false,
     "points": 2,
     "schema_version": 3,
     "solution": false
    },
    "slideshow": {
     "slide_type": ""
    },
    "tags": []
   },
   "outputs": [],
   "source": [
    "assert all(monthly_count == pd.Series([29425, 29327, 28889], index = [7, 8, 10]))"
   ]
  },
  {
   "cell_type": "markdown",
   "metadata": {},
   "source": [
    "## Question 1.3 (2 pts)\n",
    "First get a new dataframe with the three columns of interest 'carrier', 'month' and 'dep_delay'. Then compute the average dep_delay for each carrier and for each month. Rank the departure delays/month and filter the 1st rank carrier for each month (carrier with the lowest dep_delay for the month will get the 1st rank). Show the results in ascending order of the month\n",
    "\n",
    "Hint: Some of the functions that can help are rank(), unstack(), stack(). "
   ]
  },
  {
   "cell_type": "code",
   "execution_count": 6,
   "metadata": {
    "deletable": false,
    "nbgrader": {
     "cell_type": "code",
     "checksum": "fbb9adf5bd8f989ea5bbab96c13db361",
     "grade": false,
     "grade_id": "grade_3",
     "locked": false,
     "schema_version": 3,
     "solution": true
    },
    "slideshow": {
     "slide_type": ""
    },
    "tags": []
   },
   "outputs": [],
   "source": [
    "carrier_month_delay = df[['carrier', 'month', 'dep_delay']]\n",
    "avg_delay = carrier_month_delay.groupby(['carrier', 'month'])['dep_delay'].mean().unstack().rank(axis=0).stack().reset_index()\n",
    "avg_delay.columns = ['carrier', 'month', 'rank']\n",
    "avg_delay = avg_delay[avg_delay['rank'] == 1].sort_values(by='month')\n"
   ]
  },
  {
   "cell_type": "code",
   "execution_count": 7,
   "metadata": {},
   "outputs": [
    {
     "data": {
      "text/html": [
       "<div>\n",
       "<style scoped>\n",
       "    .dataframe tbody tr th:only-of-type {\n",
       "        vertical-align: middle;\n",
       "    }\n",
       "\n",
       "    .dataframe tbody tr th {\n",
       "        vertical-align: top;\n",
       "    }\n",
       "\n",
       "    .dataframe thead th {\n",
       "        text-align: right;\n",
       "    }\n",
       "</style>\n",
       "<table border=\"1\" class=\"dataframe\">\n",
       "  <thead>\n",
       "    <tr style=\"text-align: right;\">\n",
       "      <th></th>\n",
       "      <th>carrier</th>\n",
       "      <th>month</th>\n",
       "      <th>rank</th>\n",
       "    </tr>\n",
       "  </thead>\n",
       "  <tbody>\n",
       "    <tr>\n",
       "      <th>149</th>\n",
       "      <td>VX</td>\n",
       "      <td>1</td>\n",
       "      <td>1.0</td>\n",
       "    </tr>\n",
       "    <tr>\n",
       "      <th>25</th>\n",
       "      <td>AS</td>\n",
       "      <td>2</td>\n",
       "      <td>1.0</td>\n",
       "    </tr>\n",
       "    <tr>\n",
       "      <th>98</th>\n",
       "      <td>HA</td>\n",
       "      <td>3</td>\n",
       "      <td>1.0</td>\n",
       "    </tr>\n",
       "    <tr>\n",
       "      <th>99</th>\n",
       "      <td>HA</td>\n",
       "      <td>4</td>\n",
       "      <td>1.0</td>\n",
       "    </tr>\n",
       "    <tr>\n",
       "      <th>100</th>\n",
       "      <td>HA</td>\n",
       "      <td>5</td>\n",
       "      <td>1.0</td>\n",
       "    </tr>\n",
       "    <tr>\n",
       "      <th>101</th>\n",
       "      <td>HA</td>\n",
       "      <td>6</td>\n",
       "      <td>1.0</td>\n",
       "    </tr>\n",
       "    <tr>\n",
       "      <th>102</th>\n",
       "      <td>HA</td>\n",
       "      <td>7</td>\n",
       "      <td>1.0</td>\n",
       "    </tr>\n",
       "    <tr>\n",
       "      <th>103</th>\n",
       "      <td>HA</td>\n",
       "      <td>8</td>\n",
       "      <td>1.0</td>\n",
       "    </tr>\n",
       "    <tr>\n",
       "      <th>104</th>\n",
       "      <td>HA</td>\n",
       "      <td>9</td>\n",
       "      <td>1.0</td>\n",
       "    </tr>\n",
       "    <tr>\n",
       "      <th>105</th>\n",
       "      <td>HA</td>\n",
       "      <td>10</td>\n",
       "      <td>1.0</td>\n",
       "    </tr>\n",
       "    <tr>\n",
       "      <th>106</th>\n",
       "      <td>HA</td>\n",
       "      <td>11</td>\n",
       "      <td>1.0</td>\n",
       "    </tr>\n",
       "    <tr>\n",
       "      <th>107</th>\n",
       "      <td>HA</td>\n",
       "      <td>12</td>\n",
       "      <td>1.0</td>\n",
       "    </tr>\n",
       "  </tbody>\n",
       "</table>\n",
       "</div>"
      ],
      "text/plain": [
       "    carrier  month  rank\n",
       "149      VX      1   1.0\n",
       "25       AS      2   1.0\n",
       "98       HA      3   1.0\n",
       "99       HA      4   1.0\n",
       "100      HA      5   1.0\n",
       "101      HA      6   1.0\n",
       "102      HA      7   1.0\n",
       "103      HA      8   1.0\n",
       "104      HA      9   1.0\n",
       "105      HA     10   1.0\n",
       "106      HA     11   1.0\n",
       "107      HA     12   1.0"
      ]
     },
     "execution_count": 7,
     "metadata": {},
     "output_type": "execute_result"
    }
   ],
   "source": [
    "avg_delay"
   ]
  },
  {
   "cell_type": "code",
   "execution_count": 8,
   "metadata": {},
   "outputs": [],
   "source": [
    "#So the HA carrier has a ton of negative dep_delay which I took to mean they have the lowest departure time\n",
    "# I suppose negative could be left early which is not a thing flights often do\n",
    "# but I'll still will assume that I can take negative as negative and use them as lower values "
   ]
  },
  {
   "cell_type": "code",
   "execution_count": 9,
   "metadata": {
    "deletable": false,
    "editable": false,
    "nbgrader": {
     "cell_type": "code",
     "checksum": "d6d0024ccffa20e023adf0a47940f8d3",
     "grade": true,
     "grade_id": "load_3",
     "locked": false,
     "points": 2,
     "schema_version": 3,
     "solution": false
    },
    "slideshow": {
     "slide_type": ""
    },
    "tags": []
   },
   "outputs": [],
   "source": [
    "# Hidden test here"
   ]
  },
  {
   "cell_type": "markdown",
   "metadata": {},
   "source": [
    "## Question 1.4 (2 pts)\n",
    "Find the 5 top destinations in this dataset (most number of flights to). Filter only those flights to these top 5 destinations and then show the distribution of carriers on this filtered data."
   ]
  },
  {
   "cell_type": "code",
   "execution_count": 10,
   "metadata": {},
   "outputs": [],
   "source": [
    "top_dest = df['dest'].value_counts().nlargest(5).index.to_numpy()"
   ]
  },
  {
   "cell_type": "code",
   "execution_count": 11,
   "metadata": {},
   "outputs": [],
   "source": [
    "carriers_to_top = df[df[\"dest\"].isin(top_dest)]\n"
   ]
  },
  {
   "cell_type": "code",
   "execution_count": 12,
   "metadata": {},
   "outputs": [],
   "source": [
    "top_carrier_count = carriers_to_top[\"carrier\"].value_counts() \n"
   ]
  },
  {
   "cell_type": "code",
   "execution_count": 13,
   "metadata": {
    "deletable": false,
    "editable": false,
    "nbgrader": {
     "cell_type": "code",
     "checksum": "6750362a9b5f0328f3043f31b76654fc",
     "grade": true,
     "grade_id": "load_4",
     "locked": false,
     "points": 2,
     "schema_version": 3,
     "solution": false
    },
    "slideshow": {
     "slide_type": ""
    },
    "tags": []
   },
   "outputs": [],
   "source": [
    "import numpy as np\n",
    "assert np.all(top_dest == np.array(['ORD', 'ATL', 'LAX', 'BOS', 'MCO']))"
   ]
  },
  {
   "cell_type": "markdown",
   "metadata": {},
   "source": [
    "## Question 1.5 (2 pts)\n",
    "Get the total count of cancelled flights in this dataset. We'll say that a cancelled flight has dep_time missing."
   ]
  },
  {
   "cell_type": "code",
   "execution_count": 14,
   "metadata": {
    "deletable": false,
    "nbgrader": {
     "cell_type": "code",
     "checksum": "af732a96850a96f2926880f3ef3a0d5c",
     "grade": false,
     "grade_id": "grade_5",
     "locked": false,
     "schema_version": 3,
     "solution": true
    },
    "slideshow": {
     "slide_type": ""
    },
    "tags": []
   },
   "outputs": [],
   "source": [
    "cancelled_flight_count =len(df[df[\"dep_time\"].isna()])"
   ]
  },
  {
   "cell_type": "code",
   "execution_count": 15,
   "metadata": {
    "deletable": false,
    "editable": false,
    "nbgrader": {
     "cell_type": "code",
     "checksum": "7493dbe23a7e4ce03155c5e3b4966b4c",
     "grade": true,
     "grade_id": "load_5",
     "locked": false,
     "points": 2,
     "schema_version": 3,
     "solution": false
    },
    "slideshow": {
     "slide_type": ""
    },
    "tags": []
   },
   "outputs": [],
   "source": [
    "assert cancelled_flight_count == 8255"
   ]
  },
  {
   "cell_type": "markdown",
   "metadata": {},
   "source": [
    "## Question 1.6 (2 pts)\n",
    "Count all the destinations that have a letter 'K' anywhere in the name code."
   ]
  },
  {
   "cell_type": "code",
   "execution_count": 16,
   "metadata": {
    "deletable": false,
    "nbgrader": {
     "cell_type": "code",
     "checksum": "53e156c2580947fb8b3263984042190b",
     "grade": false,
     "grade_id": "grade_6",
     "locked": false,
     "schema_version": 3,
     "solution": true
    },
    "slideshow": {
     "slide_type": ""
    },
    "tags": []
   },
   "outputs": [],
   "source": [
    "dest_with_k = len(df[df[\"dest\"].str.contains(\"K\")])\n"
   ]
  },
  {
   "cell_type": "code",
   "execution_count": 17,
   "metadata": {
    "deletable": false,
    "editable": false,
    "nbgrader": {
     "cell_type": "code",
     "checksum": "9982155c11a4d5a5532d003d2b29d435",
     "grade": true,
     "grade_id": "load_6",
     "locked": false,
     "points": 2,
     "schema_version": 3,
     "solution": false
    },
    "slideshow": {
     "slide_type": ""
    },
    "tags": []
   },
   "outputs": [],
   "source": [
    "assert dest_with_k == 4589"
   ]
  },
  {
   "cell_type": "markdown",
   "metadata": {},
   "source": [
    "## Question 1.7 (2 pts)\n",
    "Create a new column called speed that computes the speed as distance/air_time"
   ]
  },
  {
   "cell_type": "code",
   "execution_count": 18,
   "metadata": {
    "deletable": false,
    "nbgrader": {
     "cell_type": "code",
     "checksum": "2ba7c8c1e0c536052db7acc529e01d29",
     "grade": false,
     "grade_id": "grade_7",
     "locked": false,
     "schema_version": 3,
     "solution": true
    },
    "slideshow": {
     "slide_type": ""
    },
    "tags": []
   },
   "outputs": [],
   "source": [
    "df['speed'] = df['distance'] / df['air_time']"
   ]
  },
  {
   "cell_type": "code",
   "execution_count": 19,
   "metadata": {
    "deletable": false,
    "editable": false,
    "nbgrader": {
     "cell_type": "code",
     "checksum": "9f0ea1ee2fd72f00fdebd55a86d80cde",
     "grade": true,
     "grade_id": "load_7",
     "locked": false,
     "points": 2,
     "schema_version": 3,
     "solution": false
    },
    "slideshow": {
     "slide_type": ""
    },
    "tags": []
   },
   "outputs": [],
   "source": [
    "assert type(df['speed']) == pd.Series \n",
    "assert abs(df['speed'][0] - 6.1674) < 1"
   ]
  },
  {
   "cell_type": "markdown",
   "metadata": {},
   "source": [
    "## Question 1.8 (4 pts)\n",
    "Segment the dep_time 24 hours into \n",
    "* night from 12 midnight to 5 am\n",
    "* morning from 5:01 am to 12 noon\n",
    "* afternoon from 12.01 noon to 5 pm\n",
    "* evening from 5.01 pm to 12 am\n",
    "\n",
    "And then run a query to find the total flights in each segment and save that value in the given variable.\n"
   ]
  },
  {
   "cell_type": "code",
   "execution_count": 20,
   "metadata": {
    "deletable": false,
    "nbgrader": {
     "cell_type": "code",
     "checksum": "cd4234cba83a211f32d65bd4182de446",
     "grade": false,
     "grade_id": "grade_8",
     "locked": false,
     "schema_version": 3,
     "solution": true
    },
    "slideshow": {
     "slide_type": ""
    },
    "tags": []
   },
   "outputs": [],
   "source": [
    "def segment(dep_time):\n",
    "    if 0 <= dep_time < 500:\n",
    "        return 'night'\n",
    "    elif 501 <= dep_time <= 1200:\n",
    "        return 'morning'\n",
    "    elif 1201 <= dep_time <= 1700:\n",
    "        return 'afternoon'\n",
    "    elif 1701 <= dep_time <= 2400:\n",
    "        return 'evening'\n",
    "    else:\n",
    "        return None\n",
    "\n",
    "df['time_of_day'] = df['dep_time'].apply(segment)\n",
    "\n",
    "parts_of_day_count = df['time_of_day'].value_counts()"
   ]
  },
  {
   "cell_type": "code",
   "execution_count": 21,
   "metadata": {
    "deletable": false,
    "editable": false,
    "nbgrader": {
     "cell_type": "code",
     "checksum": "4b90494c4cacf16d0ca28d87fc257c97",
     "grade": true,
     "grade_id": "load_8",
     "locked": false,
     "points": 4,
     "schema_version": 3,
     "solution": false
    },
    "slideshow": {
     "slide_type": ""
    },
    "tags": []
   },
   "outputs": [],
   "source": [
    "assert parts_of_day_count['morning'] == 129939\n",
    "assert parts_of_day_count['evening'] == 98362"
   ]
  },
  {
   "cell_type": "markdown",
   "metadata": {},
   "source": [
    "# Question 2 (9 pts) \n",
    "In this problem, we will do some exploratory data analytics (EDA) by using some of the visualization libraries in Python."
   ]
  },
  {
   "cell_type": "code",
   "execution_count": 22,
   "metadata": {},
   "outputs": [
    {
     "data": {
      "text/html": [
       "<div>\n",
       "<style scoped>\n",
       "    .dataframe tbody tr th:only-of-type {\n",
       "        vertical-align: middle;\n",
       "    }\n",
       "\n",
       "    .dataframe tbody tr th {\n",
       "        vertical-align: top;\n",
       "    }\n",
       "\n",
       "    .dataframe thead th {\n",
       "        text-align: right;\n",
       "    }\n",
       "</style>\n",
       "<table border=\"1\" class=\"dataframe\">\n",
       "  <thead>\n",
       "    <tr style=\"text-align: right;\">\n",
       "      <th></th>\n",
       "      <th>year</th>\n",
       "      <th>month</th>\n",
       "      <th>day</th>\n",
       "      <th>dep_time</th>\n",
       "      <th>sched_dep_time</th>\n",
       "      <th>dep_delay</th>\n",
       "      <th>arr_time</th>\n",
       "      <th>sched_arr_time</th>\n",
       "      <th>arr_delay</th>\n",
       "      <th>flight</th>\n",
       "      <th>air_time</th>\n",
       "      <th>distance</th>\n",
       "      <th>hour</th>\n",
       "      <th>minute</th>\n",
       "    </tr>\n",
       "  </thead>\n",
       "  <tbody>\n",
       "    <tr>\n",
       "      <th>count</th>\n",
       "      <td>336776.0</td>\n",
       "      <td>336776.000000</td>\n",
       "      <td>336776.000000</td>\n",
       "      <td>328521.000000</td>\n",
       "      <td>336776.000000</td>\n",
       "      <td>328521.000000</td>\n",
       "      <td>328063.000000</td>\n",
       "      <td>336776.000000</td>\n",
       "      <td>327346.000000</td>\n",
       "      <td>336776.000000</td>\n",
       "      <td>327346.000000</td>\n",
       "      <td>336776.000000</td>\n",
       "      <td>336776.000000</td>\n",
       "      <td>336776.000000</td>\n",
       "    </tr>\n",
       "    <tr>\n",
       "      <th>mean</th>\n",
       "      <td>2013.0</td>\n",
       "      <td>6.548510</td>\n",
       "      <td>15.710787</td>\n",
       "      <td>1349.109947</td>\n",
       "      <td>1344.254840</td>\n",
       "      <td>12.639070</td>\n",
       "      <td>1502.054999</td>\n",
       "      <td>1536.380220</td>\n",
       "      <td>6.895377</td>\n",
       "      <td>1971.923620</td>\n",
       "      <td>150.686460</td>\n",
       "      <td>1039.912604</td>\n",
       "      <td>13.180247</td>\n",
       "      <td>26.230100</td>\n",
       "    </tr>\n",
       "    <tr>\n",
       "      <th>std</th>\n",
       "      <td>0.0</td>\n",
       "      <td>3.414457</td>\n",
       "      <td>8.768607</td>\n",
       "      <td>488.281791</td>\n",
       "      <td>467.335756</td>\n",
       "      <td>40.210061</td>\n",
       "      <td>533.264132</td>\n",
       "      <td>497.457142</td>\n",
       "      <td>44.633292</td>\n",
       "      <td>1632.471938</td>\n",
       "      <td>93.688305</td>\n",
       "      <td>733.233033</td>\n",
       "      <td>4.661316</td>\n",
       "      <td>19.300846</td>\n",
       "    </tr>\n",
       "    <tr>\n",
       "      <th>min</th>\n",
       "      <td>2013.0</td>\n",
       "      <td>1.000000</td>\n",
       "      <td>1.000000</td>\n",
       "      <td>1.000000</td>\n",
       "      <td>106.000000</td>\n",
       "      <td>-43.000000</td>\n",
       "      <td>1.000000</td>\n",
       "      <td>1.000000</td>\n",
       "      <td>-86.000000</td>\n",
       "      <td>1.000000</td>\n",
       "      <td>20.000000</td>\n",
       "      <td>17.000000</td>\n",
       "      <td>1.000000</td>\n",
       "      <td>0.000000</td>\n",
       "    </tr>\n",
       "    <tr>\n",
       "      <th>25%</th>\n",
       "      <td>2013.0</td>\n",
       "      <td>4.000000</td>\n",
       "      <td>8.000000</td>\n",
       "      <td>907.000000</td>\n",
       "      <td>906.000000</td>\n",
       "      <td>-5.000000</td>\n",
       "      <td>1104.000000</td>\n",
       "      <td>1124.000000</td>\n",
       "      <td>-17.000000</td>\n",
       "      <td>553.000000</td>\n",
       "      <td>82.000000</td>\n",
       "      <td>502.000000</td>\n",
       "      <td>9.000000</td>\n",
       "      <td>8.000000</td>\n",
       "    </tr>\n",
       "    <tr>\n",
       "      <th>50%</th>\n",
       "      <td>2013.0</td>\n",
       "      <td>7.000000</td>\n",
       "      <td>16.000000</td>\n",
       "      <td>1401.000000</td>\n",
       "      <td>1359.000000</td>\n",
       "      <td>-2.000000</td>\n",
       "      <td>1535.000000</td>\n",
       "      <td>1556.000000</td>\n",
       "      <td>-5.000000</td>\n",
       "      <td>1496.000000</td>\n",
       "      <td>129.000000</td>\n",
       "      <td>872.000000</td>\n",
       "      <td>13.000000</td>\n",
       "      <td>29.000000</td>\n",
       "    </tr>\n",
       "    <tr>\n",
       "      <th>75%</th>\n",
       "      <td>2013.0</td>\n",
       "      <td>10.000000</td>\n",
       "      <td>23.000000</td>\n",
       "      <td>1744.000000</td>\n",
       "      <td>1729.000000</td>\n",
       "      <td>11.000000</td>\n",
       "      <td>1940.000000</td>\n",
       "      <td>1945.000000</td>\n",
       "      <td>14.000000</td>\n",
       "      <td>3465.000000</td>\n",
       "      <td>192.000000</td>\n",
       "      <td>1389.000000</td>\n",
       "      <td>17.000000</td>\n",
       "      <td>44.000000</td>\n",
       "    </tr>\n",
       "    <tr>\n",
       "      <th>max</th>\n",
       "      <td>2013.0</td>\n",
       "      <td>12.000000</td>\n",
       "      <td>31.000000</td>\n",
       "      <td>2400.000000</td>\n",
       "      <td>2359.000000</td>\n",
       "      <td>1301.000000</td>\n",
       "      <td>2400.000000</td>\n",
       "      <td>2359.000000</td>\n",
       "      <td>1272.000000</td>\n",
       "      <td>8500.000000</td>\n",
       "      <td>695.000000</td>\n",
       "      <td>4983.000000</td>\n",
       "      <td>23.000000</td>\n",
       "      <td>59.000000</td>\n",
       "    </tr>\n",
       "  </tbody>\n",
       "</table>\n",
       "</div>"
      ],
      "text/plain": [
       "           year          month            day       dep_time  sched_dep_time  \\\n",
       "count  336776.0  336776.000000  336776.000000  328521.000000   336776.000000   \n",
       "mean     2013.0       6.548510      15.710787    1349.109947     1344.254840   \n",
       "std         0.0       3.414457       8.768607     488.281791      467.335756   \n",
       "min      2013.0       1.000000       1.000000       1.000000      106.000000   \n",
       "25%      2013.0       4.000000       8.000000     907.000000      906.000000   \n",
       "50%      2013.0       7.000000      16.000000    1401.000000     1359.000000   \n",
       "75%      2013.0      10.000000      23.000000    1744.000000     1729.000000   \n",
       "max      2013.0      12.000000      31.000000    2400.000000     2359.000000   \n",
       "\n",
       "           dep_delay       arr_time  sched_arr_time      arr_delay  \\\n",
       "count  328521.000000  328063.000000   336776.000000  327346.000000   \n",
       "mean       12.639070    1502.054999     1536.380220       6.895377   \n",
       "std        40.210061     533.264132      497.457142      44.633292   \n",
       "min       -43.000000       1.000000        1.000000     -86.000000   \n",
       "25%        -5.000000    1104.000000     1124.000000     -17.000000   \n",
       "50%        -2.000000    1535.000000     1556.000000      -5.000000   \n",
       "75%        11.000000    1940.000000     1945.000000      14.000000   \n",
       "max      1301.000000    2400.000000     2359.000000    1272.000000   \n",
       "\n",
       "              flight       air_time       distance           hour  \\\n",
       "count  336776.000000  327346.000000  336776.000000  336776.000000   \n",
       "mean     1971.923620     150.686460    1039.912604      13.180247   \n",
       "std      1632.471938      93.688305     733.233033       4.661316   \n",
       "min         1.000000      20.000000      17.000000       1.000000   \n",
       "25%       553.000000      82.000000     502.000000       9.000000   \n",
       "50%      1496.000000     129.000000     872.000000      13.000000   \n",
       "75%      3465.000000     192.000000    1389.000000      17.000000   \n",
       "max      8500.000000     695.000000    4983.000000      23.000000   \n",
       "\n",
       "              minute  \n",
       "count  336776.000000  \n",
       "mean       26.230100  \n",
       "std        19.300846  \n",
       "min         0.000000  \n",
       "25%         8.000000  \n",
       "50%        29.000000  \n",
       "75%        44.000000  \n",
       "max        59.000000  "
      ]
     },
     "execution_count": 22,
     "metadata": {},
     "output_type": "execute_result"
    }
   ],
   "source": [
    "import numpy as np\n",
    "import pandas as pd\n",
    "import seaborn as sns\n",
    "flights = pd.read_csv(\"flights.csv.gz\")\n",
    "airports = pd.read_csv(\"airports.csv\")\n",
    "flights.describe()"
   ]
  },
  {
   "cell_type": "markdown",
   "metadata": {},
   "source": [
    "## Question 2.1 (3 pts)\n",
    "\n",
    "Line charts are ideal to show a trend line. Draw a line chart to show monthly frequency count of flights as a trend line for the year 2013. Be sure to choose the correct data to display on the x-axis and y-axis."
   ]
  },
  {
   "cell_type": "code",
   "execution_count": 23,
   "metadata": {
    "deletable": false,
    "nbgrader": {
     "cell_type": "code",
     "checksum": "788c77648e4a897ab0da4ecde633f536",
     "grade": false,
     "grade_id": "grade_21",
     "locked": false,
     "schema_version": 3,
     "solution": true
    },
    "slideshow": {
     "slide_type": ""
    },
    "tags": []
   },
   "outputs": [
    {
     "data": {
      "image/png": "[encoded data removed]",
      "text/plain": [
       "<Figure size 1000x500 with 1 Axes>"
      ]
     },
     "metadata": {},
     "output_type": "display_data"
    }
   ],
   "source": [
    "df_m = df[\"month\"].value_counts().sort_index()\n",
    "fig1 = df_m.plot(kind='line', figsize=(10, 5), title=\"Monthly breakdown\",xlabel=\"Months (1-12)\", ylabel= \"Monthly Frequency\")\n"
   ]
  },
  {
   "cell_type": "code",
   "execution_count": 24,
   "metadata": {
    "deletable": false,
    "editable": false,
    "nbgrader": {
     "cell_type": "code",
     "checksum": "bafec75572bd4f19833a019ff8909a69",
     "grade": true,
     "grade_id": "load_21",
     "locked": false,
     "points": 3,
     "schema_version": 3,
     "solution": false
    },
    "slideshow": {
     "slide_type": ""
    },
    "tags": []
   },
   "outputs": [],
   "source": [
    "assert fig1.get_title() == 'Monthly breakdown'\n",
    "assert fig1.get_xlabel() == 'Months (1-12)'\n",
    "assert fig1.get_ylabel() == 'Monthly Frequency'\n",
    "assert dict(fig1.lines[0].get_xydata())[6] == 28243"
   ]
  },
  {
   "cell_type": "markdown",
   "metadata": {},
   "source": [
    "## Question 2.2 (3 pts)\n",
    "Show the top 5 airports that people flew into using a bar chart. "
   ]
  },
  {
   "cell_type": "code",
   "execution_count": 25,
   "metadata": {
    "deletable": false,
    "nbgrader": {
     "cell_type": "code",
     "checksum": "284a056076a42c0465bfac041742d144",
     "grade": false,
     "grade_id": "grade_22",
     "locked": false,
     "schema_version": 3,
     "solution": true
    },
    "slideshow": {
     "slide_type": ""
    },
    "tags": []
   },
   "outputs": [
    {
     "data": {
      "image/png": "[encoded data removed]",
      "text/plain": [
       "<Figure size 1000x500 with 1 Axes>"
      ]
     },
     "metadata": {},
     "output_type": "display_data"
    }
   ],
   "source": [
    "topair = df[\"dest\"].value_counts().nlargest(5) \n",
    "\n",
    "fig_2 = topair.plot(kind='bar', figsize=(10, 5), title=\"Top 5 airports that people flew into\", xlabel=\"Airport codes\", ylabel= \"Total arrivals\")"
   ]
  },
  {
   "cell_type": "code",
   "execution_count": 26,
   "metadata": {
    "deletable": false,
    "editable": false,
    "nbgrader": {
     "cell_type": "code",
     "checksum": "34d10cb8bffc44749571fdc5d582e983",
     "grade": true,
     "grade_id": "load_22",
     "locked": false,
     "points": 3,
     "schema_version": 3,
     "solution": false
    },
    "slideshow": {
     "slide_type": ""
    },
    "tags": []
   },
   "outputs": [],
   "source": [
    "x_axis = fig_2.get_xaxis()\n",
    "text1 = x_axis.get_ticklabels()[0]\n",
    "assert text1.get_text() == 'ORD'\n",
    "assert fig_2.get_title() == 'Top 5 airports that people flew into'\n",
    "assert fig_2.get_xlabel() == 'Airport codes'\n",
    "assert fig_2.get_ylabel() == 'Total arrivals'"
   ]
  },
  {
   "cell_type": "markdown",
   "metadata": {
    "id": "9fYlm9133CjV"
   },
   "source": [
    "## Question 2.3 (3 pts)\n",
    "\n",
    "Segment the flights based on time-slots with the following criteria\n",
    "* flights that depart from 00-5:59am as 'red-eye' flights\n",
    "* flights that depart from 6am - 11:59am as 'morning'\n",
    "* flights that depart from 12noon - 3:59pm as 'afternoon'\n",
    "* flights that depart from 4pm - 11:59pm as 'evening' \n",
    "\n",
    "And using seaborn create a plot as shown below. PS: Feel free to choose your color palette.\n",
    "\n",
    "![segmentation.png](data:image/png;base64,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)"
   ]
  },
  {
   "cell_type": "code",
   "execution_count": 27,
   "metadata": {
    "deletable": false,
    "nbgrader": {
     "cell_type": "code",
     "checksum": "eae723ce14065b3ccc76203dcda1c7de",
     "grade": false,
     "grade_id": "grade_23",
     "locked": false,
     "schema_version": 3,
     "solution": true
    },
    "slideshow": {
     "slide_type": ""
    },
    "tags": []
   },
   "outputs": [],
   "source": [
    "def segment2(dep_time):\n",
    "    if 0 <= dep_time < 500:\n",
    "        return 'red-eye(00-5:59am)'\n",
    "    elif 501 <= dep_time <= 1200:\n",
    "        return 'morning(6am-11:59am)'\n",
    "    elif 1201 <= dep_time <= 1700:\n",
    "        return 'afternoon(12noon-3:59pm)'\n",
    "    elif 1701 <= dep_time <= 2400:\n",
    "        return 'evening(4pm-11:59pm)'\n",
    "    else:\n",
    "        return None\n",
    "\n",
    "df['time_of_day2'] = df['dep_time'].apply(segment2)\n"
   ]
  },
  {
   "cell_type": "code",
   "execution_count": 28,
   "metadata": {},
   "outputs": [],
   "source": [
    "origin_times = df.groupby([\"time_of_day2\",\"origin\"])[\"month\"].count()\n",
    "origin_times_df = origin_times.reset_index()\n",
    "origin_times_df.columns = ['time_of_day2', 'origin', 'count']"
   ]
  },
  {
   "cell_type": "code",
   "execution_count": 29,
   "metadata": {},
   "outputs": [
    {
     "name": "stderr",
     "output_type": "stream",
     "text": [
      "/Users/robertcf/miniconda3/envs/general/lib/python3.11/site-packages/seaborn/axisgrid.py:123: UserWarning: The figure layout has changed to tight\n",
      "  self._figure.tight_layout(*args, **kwargs)\n"
     ]
    },
    {
     "data": {
      "text/plain": [
       "<seaborn.axisgrid.FacetGrid at 0x1743fde50>"
      ]
     },
     "execution_count": 29,
     "metadata": {},
     "output_type": "execute_result"
    },
    {
     "data": {
      "image/png": "[encoded data removed]",
      "text/plain": [
       "<Figure size 1000x500 with 4 Axes>"
      ]
     },
     "metadata": {},
     "output_type": "display_data"
    }
   ],
   "source": [
    "fig_3 = sns.catplot(data=origin_times_df, x='origin', hue = \"origin\", col_order = ['red-eye(00-5:59am)','morning(6am-11:59am)','afternoon(12noon-3:59pm)','evening(4pm-11:59pm)'],\n",
    "                     col='time_of_day2', y='count', kind =\"bar\", palette='mako', order=['EWR', 'JFK', 'LGA'], aspect = .5)\n",
    "fig_3.set_axis_labels('', 'Flight Count')\n",
    "fig_3.set_titles('{col_name}')\n",
    "fig_3.despine(left = True)"
   ]
  },
  {
   "cell_type": "code",
   "execution_count": 30,
   "metadata": {
    "deletable": false,
    "editable": false,
    "nbgrader": {
     "cell_type": "code",
     "checksum": "60008721ea595b40a7a36c86d1752b12",
     "grade": true,
     "grade_id": "load_23",
     "locked": false,
     "points": 3,
     "schema_version": 3,
     "solution": false
    },
    "slideshow": {
     "slide_type": ""
    },
    "tags": []
   },
   "outputs": [],
   "source": [
    "assert fig_3.figure.get_axes()[0].get_title() == 'red-eye(00-5:59am)'\n",
    "assert fig_3.figure.get_axes()[0].get_ylabel() == 'Flight Count'\n",
    "assert fig_3.figure.get_axes()[1].get_title() == 'morning(6am-11:59am)'"
   ]
  },
  {
   "cell_type": "code",
   "execution_count": null,
   "metadata": {},
   "outputs": [],
   "source": []
  }
 ],
 "metadata": {
  "kernelspec": {
   "display_name": "general",
   "language": "python",
   "name": "python3"
  },
  "language_info": {
   "codemirror_mode": {
    "name": "ipython",
    "version": 3
   },
   "file_extension": ".py",
   "mimetype": "text/x-python",
   "name": "python",
   "nbconvert_exporter": "python",
   "pygments_lexer": "ipython3",
   "version": "3.11.8"
  }
 },
 "nbformat": 4,
 "nbformat_minor": 4
}
