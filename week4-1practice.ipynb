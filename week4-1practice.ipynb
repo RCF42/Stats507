{
 "cells": [
  {
   "cell_type": "markdown",
   "metadata": {
    "colab_type": "text",
    "deletable": false,
    "editable": true,
    "id": "ck4jLznJiooB",
    "nbgrader": {
     "cell_type": "markdown",
     "checksum": "38b4cbfd496d80940cfa87c97061e3be",
     "grade": false,
     "grade_id": "cell-b1db85bf05a65a79",
     "locked": true,
     "schema_version": 3,
     "solution": false,
     "task": false
    },
    "slideshow": {
     "slide_type": ""
    },
    "tags": []
   },
   "source": [
    "### Lecture 4 Practice: Class"
   ]
  },
  {
   "cell_type": "markdown",
   "metadata": {
    "colab_type": "text",
    "deletable": false,
    "editable": true,
    "id": "7e5PDMTdlnhr",
    "nbgrader": {
     "cell_type": "markdown",
     "checksum": "028c604f7c4a6b0fd489eb9063fb71bd",
     "grade": false,
     "grade_id": "cell-473f900194560999",
     "locked": true,
     "schema_version": 3,
     "solution": false,
     "task": false
    },
    "slideshow": {
     "slide_type": ""
    },
    "tags": []
   },
   "source": [
    "### Question 1\n",
    "Design a Rectangle class that represents a rectangle in a 2D coordinate system with the following specifications:\n",
    "\n",
    "The rectangle is defined by: An upper-left corner (represented by a Point object), height (positive float/integer) and width (positive float/integer)\n",
    "\n",
    "\n",
    "Core Methods: 1) Constructor, 2) String representation for printing the rectangle details and 3) Area calculation area() that returns the rectangle's area."
   ]
  },
  {
   "cell_type": "code",
   "execution_count": 1,
   "metadata": {
    "deletable": false,
    "slideshow": {
     "slide_type": ""
    },
    "tags": []
   },
   "outputs": [],
   "source": [
    "class Point:\n",
    "    \"\"\"A class representing a point in 2D space.\"\"\"\n",
    "    \n",
    "    def __init__(self, x: float, y: float):\n",
    "        \"\"\"Initialize a Point with x and y coordinates.\n",
    "        Args:\n",
    "            x (float): x-coordinate\n",
    "            y (float): y-coordinate\n",
    "        \"\"\"\n",
    "        self.x = x\n",
    "        self.y = y\n",
    "    \n",
    "    def __str__(self) -> str:\n",
    "        \"\"\"Return string representation of the Point.\"\"\"\n",
    "        return f\"Point({self.x}, {self.y})\"\n",
    "    \n",
    "    def __eq__(self, other) -> bool:\n",
    "        \"\"\"Check if two points are equal.\"\"\"\n",
    "        if not isinstance(other, Point):\n",
    "            return False\n",
    "        return self.x == other.x and self.y == other.y\n",
    "    \n",
    "    def __lt__(self,other) -> bool:\n",
    "        if not isinstance(other, Point):\n",
    "            return False\n",
    "        return self.x < other.x and self.y < other.y\n",
    "    \n",
    "    def set_x(self,value):\n",
    "        if not isinstance(value, (int, float)):\n",
    "            raise ValueError(\"x must be a number\")\n",
    "        self.x = value \n",
    "\n",
    "    def set_y(self,value): #this is a modifier, it actually changes the object you're dealing with \n",
    "        if not isinstance(value, (int, float)):\n",
    "            raise ValueError(\"y must be a number\")\n",
    "        self.y = value \n",
    "\n",
    "    def distance(self, other: 'Point') -> float: #this is a pure function , it just pops out something and doesn't mess w/ my object\n",
    "        \"\"\"Calculate Euclidean distance between two points.\n",
    "        \n",
    "        Args:\n",
    "            other (Point): Another point to calculate distance to\n",
    "            \n",
    "        Returns:\n",
    "            float: Distance between the points\n",
    "        \"\"\"\n",
    "        x_diff_square = (self.x - other.x) ** 2\n",
    "        y_diff_square = (self.y - other.y) ** 2\n",
    "        return (x_diff_square + y_diff_square) ** 0.5"
   ]
  },
  {
   "cell_type": "code",
   "execution_count": 83,
   "metadata": {
    "colab": {},
    "colab_type": "code",
    "deletable": false,
    "editable": true,
    "id": "WxAZ_1kim6sh",
    "nbgrader": {
     "cell_type": "code",
     "checksum": "2eedbb0747607347736b7d1a4128c272",
     "grade": false,
     "grade_id": "cell-6c67d579c481de9b",
     "locked": false,
     "schema_version": 3,
     "solution": true,
     "task": false
    },
    "slideshow": {
     "slide_type": ""
    },
    "tags": []
   },
   "outputs": [],
   "source": [
    "# YOUR CODE HERE\n",
    "class Rectangle:\n",
    "    \n",
    "    def __init__(self, ulc: Point, height: float, width:float):\n",
    "        \"\"\"\n",
    "        Initialize a Rectangle with upper left corner, height and width.\n",
    "        Args:\n",
    "            ulc (Point) upper left corner of the rectangle\n",
    "            height (float) height of the rectangle\n",
    "            width (float) width of the rectangle\n",
    "        \"\"\"\n",
    "        if height <= 0 or width <= 0:\n",
    "            raise ValueError(\"Height and Width must be positive\")\n",
    "        if isinstance(ulc, Point) == False:\n",
    "            raise ValueError(\"ULC must be a Point\")\n",
    "        self.ulc = ulc\n",
    "        self.height = height\n",
    "        self.width = width\n",
    "\n",
    "    def __str__(self) -> str:\n",
    "        \"\"\"Return a string representing the rectangle\"\"\"\n",
    "        return f\"Rectangle of ULC, Height, Width: ({self.ulc}, {self.height}, {self.width})\"\n",
    "    \n",
    "    def __float__(self):\n",
    "        \"\"\"Return the area of the rectangle\"\"\"\n",
    "        return self.area()\n",
    "\n",
    "    def area(self) -> float:\n",
    "        \"\"\"Calculate the area of the rectangle\"\"\"\n",
    "        return self.height * self.width\n",
    "    \n",
    "    def test(self):\n",
    "        \"\"\"testing\"\"\"\n",
    "        return \"bob\"\n",
    "    \n"
   ]
  },
  {
   "cell_type": "code",
   "execution_count": 86,
   "metadata": {},
   "outputs": [
    {
     "name": "stdout",
     "output_type": "stream",
     "text": [
      "Created rectangle: Rectangle of ULC, Height, Width: (Point(0, 10), 5, 8)\n",
      "Area: 40\n"
     ]
    }
   ],
   "source": [
    "p1 = Point(0, 10)\n",
    "rect1 = Rectangle(p1, 5, 8)\n",
    "print(f\"Created rectangle: {rect1}\")\n",
    "print(f\"Area: {rect1.area()}\")  # Should be 40"
   ]
  },
  {
   "cell_type": "code",
   "execution_count": 61,
   "metadata": {},
   "outputs": [
    {
     "data": {
      "text/plain": [
       "'bob'"
      ]
     },
     "execution_count": 61,
     "metadata": {},
     "output_type": "execute_result"
    }
   ],
   "source": [
    "rect1.test()"
   ]
  },
  {
   "cell_type": "code",
   "execution_count": 96,
   "metadata": {},
   "outputs": [],
   "source": [
    "class Card:\n",
    "    suit_names = ['Clubs', 'Diamonds', 'Hearts', 'Spades']\n",
    "    rank_names = [None, 'Ace', '2', '3', '4', '5', '6', '7', '8', '9', '10', 'Jack', 'Queen', 'King']\n",
    "    def __init__(self, suit=0, rank=2):\n",
    "        self.suit = suit\n",
    "        self.rank = rank\n",
    "    def __str__(self):\n",
    "        return f'{Card.rank_names[self.rank]} of {Card.suit_names[self.suit]}'"
   ]
  },
  {
   "cell_type": "code",
   "execution_count": 99,
   "metadata": {},
   "outputs": [],
   "source": [
    "class Deck:\n",
    "    def __init__(self):\n",
    "        self.cards = list()\n",
    "        for suit in range(4):\n",
    "            for rank in range(1,14):\n",
    "                card = Card(suit, rank)\n",
    "                self.cards.append(card)\n",
    "    def __str__(self):\n",
    "        res = []\n",
    "        for card in self.cards:\n",
    "            res.append(str(card))\n",
    "        return '\\n'.join(res)\n",
    "    \n",
    "#https://github.com/PacktPublishing/Python-3-Object-Oriented-Programming-Third-Edition\n",
    "# this will give the whole poker thing "
   ]
  },
  {
   "cell_type": "code",
   "execution_count": null,
   "metadata": {},
   "outputs": [],
   "source": [
    "class Hand(Deck):\n",
    "    def __init__(self, label=''):\n",
    "        self.cards = list()\n",
    "        self.label = label"
   ]
  }
 ],
 "metadata": {
  "colab": {
   "collapsed_sections": [],
   "name": "Lecture 2 practice Solution.ipynb",
   "provenance": []
  },
  "kernelspec": {
   "display_name": "general",
   "language": "python",
   "name": "python3"
  },
  "language_info": {
   "codemirror_mode": {
    "name": "ipython",
    "version": 3
   },
   "file_extension": ".py",
   "mimetype": "text/x-python",
   "name": "python",
   "nbconvert_exporter": "python",
   "pygments_lexer": "ipython3",
   "version": "3.11.8"
  }
 },
 "nbformat": 4,
 "nbformat_minor": 4
}
