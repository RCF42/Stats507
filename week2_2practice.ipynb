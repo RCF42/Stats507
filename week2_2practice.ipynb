{
 "cells": [
  {
   "cell_type": "markdown",
   "id": "a5dbb53f-8913-4905-900a-dac458aa6e46",
   "metadata": {},
   "source": [
    "# STATS 507, Week 2-2 practice"
   ]
  },
  {
   "cell_type": "markdown",
   "id": "cb5bdf8a-86f8-4b1b-95dd-2a0d0d673945",
   "metadata": {},
   "source": [
    "### Problem 1\n",
    "Write a Python function that takes a string as input and returns the reverse of that string using string slicing."
   ]
  },
  {
   "cell_type": "code",
   "execution_count": null,
   "id": "f5da5422-ebad-457b-88b9-7d0d1f96622c",
   "metadata": {},
   "outputs": [],
   "source": [
    "def reverse_str_using_slicing(s):\n",
    "    # YOUR CODE HERE\n",
    "    raise NotImplementedError()\n",
    "\n",
    "# expected 'gnirts'\n",
    "reverse_str_using_slicing(\"string\")"
   ]
  },
  {
   "cell_type": "markdown",
   "id": "c0626107-386e-4a7f-a60d-01f0932298fd",
   "metadata": {},
   "source": [
    "### Problem 2"
   ]
  },
  {
   "cell_type": "code",
   "execution_count": null,
   "id": "5759eafa-afa5-4cc3-b616-1c4de3f386ec",
   "metadata": {},
   "outputs": [
    {
     "ename": "TypeError",
     "evalue": "'str' object does not support item assignment",
     "output_type": "error",
     "traceback": [
      "\u001b[0;31m---------------------------------------------------------------------------\u001b[0m",
      "\u001b[0;31mTypeError\u001b[0m                                 Traceback (most recent call last)",
      "Cell \u001b[0;32mIn[56], line 4\u001b[0m\n\u001b[1;32m      1\u001b[0m s \u001b[38;5;241m=\u001b[39m \u001b[38;5;124m\"\u001b[39m\u001b[38;5;124mstring\u001b[39m\u001b[38;5;124m\"\u001b[39m\n\u001b[1;32m      2\u001b[0m \u001b[38;5;66;03m# Modify the 2nd character of s such that s = \"spring\"\u001b[39;00m\n\u001b[1;32m      3\u001b[0m \u001b[38;5;66;03m# YOUR CODE HERE\u001b[39;00m\n\u001b[0;32m----> 4\u001b[0m s[\u001b[38;5;241m1\u001b[39m] \u001b[38;5;241m=\u001b[39m \u001b[38;5;124m'\u001b[39m\u001b[38;5;124mp\u001b[39m\u001b[38;5;124m'\u001b[39m\n\u001b[1;32m      5\u001b[0m \u001b[38;5;28mprint\u001b[39m(s)\n",
      "\u001b[0;31mTypeError\u001b[0m: 'str' object does not support item assignment"
     ]
    }
   ],
   "source": [
    "s = \"string\"\n",
    "# Modify the 2nd character of s such that s = \"spring\"\n",
    "# YOUR CODE HERE\n",
    "s[1] = 'p'\n",
    "print(s)\n",
    "s = s[:1] + 'p' + s[2:]\n",
    "print(s)  # Output should be \"spring\""
   ]
  },
  {
   "cell_type": "markdown",
   "id": "04ac6273-0e85-4a81-b5e0-301fdf040418",
   "metadata": {},
   "source": [
    "### Two more things with string"
   ]
  },
  {
   "cell_type": "code",
   "execution_count": 82,
   "id": "dda4dd33-4c05-445c-9afb-6439ec61ebc1",
   "metadata": {},
   "outputs": [
    {
     "name": "stdout",
     "output_type": "stream",
     "text": [
      "Help on method_descriptor:\n",
      "\n",
      "find(...)\n",
      "    S.find(sub[, start[, end]]) -> int\n",
      "    \n",
      "    Return the lowest index in S where substring sub is found,\n",
      "    such that sub is contained within S[start:end].  Optional\n",
      "    arguments start and end are interpreted as in slice notation.\n",
      "    \n",
      "    Return -1 on failure.\n",
      "\n"
     ]
    }
   ],
   "source": [
    "# what if we want to see what we can do with string\n",
    "help(str.find)"
   ]
  },
  {
   "cell_type": "code",
   "execution_count": 83,
   "id": "0e66981a-526a-4e64-b819-5f674554113b",
   "metadata": {},
   "outputs": [
    {
     "name": "stdout",
     "output_type": "stream",
     "text": [
      "12\n",
      "-1\n",
      "15\n",
      "15\n"
     ]
    }
   ],
   "source": [
    "# Basic usage of find()\n",
    "text = \"Python is a great programming language\"\n",
    "# Find the first occurrence of a substring\n",
    "print(text.find(\"great\"))  # Output: 12\n",
    "\n",
    "# Find a substring that doesn't exist (returns -1)\n",
    "print(text.find(\"Java\"))  # Output: -1\n",
    "\n",
    "# Find with a starting index\n",
    "print(text.find(\"a\", 11))  # Output: 15\n",
    "\n",
    "# Find with both start and end indices\n",
    "print(text.find(\"a\", 15, 20))  # Output: 15"
   ]
  },
  {
   "cell_type": "markdown",
   "id": "b1f3f286-b0a8-4585-8ce3-4a1de44d55fe",
   "metadata": {},
   "source": [
    "### Problem 3\n",
    "\n",
    "Write a function named `sum_naturals_while` that takes one argument `n` and use a `while` loop to compute the sum of the first $n$ natural numbers (starting with $1$)."
   ]
  },
  {
   "cell_type": "code",
   "execution_count": null,
   "id": "72d0e461-8975-4fa8-856a-81831b84d9b1",
   "metadata": {},
   "outputs": [],
   "source": [
    "def sum_naturals_while(n):\n",
    "    # YOUR CODE HERE\n",
    "    # raise NotImplementedError()"
   ]
  },
  {
   "cell_type": "code",
   "execution_count": null,
   "id": "2cb50efd-508d-49c4-94fe-2662b237d9c8",
   "metadata": {},
   "outputs": [],
   "source": [
    "assert sum_naturals_while(1) == 1\n",
    "assert sum_naturals_while(2) == 3\n",
    "assert sum_naturals_while(3) == 6"
   ]
  },
  {
   "cell_type": "markdown",
   "id": "0021a016-a80f-4dce-b30c-207e82262aa2",
   "metadata": {},
   "source": [
    "### Problem 4\n",
    "\n",
    "Write a function named `sum_naturals_recur` that takes one argument `n` and uses recursion to compute the sum of the first $n$ natural numbers (starting with $1$)."
   ]
  },
  {
   "cell_type": "code",
   "execution_count": 85,
   "id": "caede500-8b97-4cad-b203-bf7c7b7b18c3",
   "metadata": {},
   "outputs": [],
   "source": [
    "def sum_naturals_recur(n):\n",
    "    if n == 1:\n",
    "        return 1\n",
    "    else:\n",
    "        return n + sum_naturals_recur(n - 1)"
   ]
  },
  {
   "cell_type": "code",
   "execution_count": 86,
   "id": "d15f633c-c9c9-4958-b0ff-10c19057bdb0",
   "metadata": {},
   "outputs": [],
   "source": [
    "assert sum_naturals_recur(1) == 1\n",
    "assert sum_naturals_recur(2) == 3\n",
    "assert sum_naturals_recur(3) == 6"
   ]
  },
  {
   "cell_type": "code",
   "execution_count": null,
   "id": "fdd48c64",
   "metadata": {},
   "outputs": [],
   "source": []
  }
 ],
 "metadata": {
  "kernelspec": {
   "display_name": "general",
   "language": "python",
   "name": "python3"
  },
  "language_info": {
   "codemirror_mode": {
    "name": "ipython",
    "version": 3
   },
   "file_extension": ".py",
   "mimetype": "text/x-python",
   "name": "python",
   "nbconvert_exporter": "python",
   "pygments_lexer": "ipython3",
   "version": "3.11.8"
  }
 },
 "nbformat": 4,
 "nbformat_minor": 5
}
