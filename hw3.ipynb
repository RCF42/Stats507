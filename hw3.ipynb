{
 "cells": [
  {
   "cell_type": "markdown",
   "metadata": {},
   "source": [
    "# Homework 3: More String, Lists, and Python Objects (18 pts)"
   ]
  },
  {
   "cell_type": "markdown",
   "metadata": {},
   "source": [
    "name: Robert Frazier\n",
    "\n",
    "email: robertcf@umich.edu\n",
    "\n",
    "This homework assignment took me XX hours in total to complete. (Please help us to gauge the difficulty of the assignment.)"
   ]
  },
  {
   "cell_type": "markdown",
   "metadata": {},
   "source": [
    "## Collaboration Disclosure\n",
    "\n",
    "In the cell below, please list *everyone* with whom you discussed any of the homework problems, excluding only the GSIs and the course instructor. \n",
    "\n",
    "If you did not discuss the homework with anyone else, write __\"I did not discuss this homework with anyone.\"__\n",
    "\n",
    "Even if you discuss questions with other, the code you submit must be only yours. All work is checked with the [MOSS plagiarism detector](https://theory.stanford.edu/~aiken/moss/)."
   ]
  },
  {
   "cell_type": "markdown",
   "metadata": {},
   "source": [
    "I discussed the final question with Will Meynardie where we discussed what conditons it exactly wants for a string to be valid."
   ]
  },
  {
   "cell_type": "markdown",
   "metadata": {},
   "source": [
    "## Submission Instructions\n",
    "Your homework solutions should be written entirely in this Jupyter notebook file. Once it contains your solutions, you should submit this notebook through Canvas. \n",
    "\n",
    "\n",
    "Before submitting, please make sure to __Cells->Run All__ executes without errors; errors in your code translate directly to point deductions. \n",
    "In general, you don't need to do explicitly raise errors (e.g. with the ```raise``` function) if we don't ask you to in the problem statement.\n",
    "However, even in cases where we ask you to check for errors, your submission should not contain any examples of your functions actually raising those errors.\n",
    "\n",
    "Note that many parts of this homework where you are expected to type in code will have ```NotImplementedError()``` as a placeholder. You need to delete this function and replace it with your own code.\n",
    "\n",
    "## Importing libaries\n",
    "\n",
    "Unless specifically prohibited, you can import any Python library that comes included with Python (e.g. ```math```, ```datetime```) or that has been used in the lecture or homework prompts. You do not need any other libraries to complete the homework. Note that the graders will not install any additional libraries to grade an assignment.\n",
    "\n",
    "\n",
    "<!-- ## Coding style\n",
    "Please follow the [PEP8 guidelines](https://www.python.org/dev/peps/pep-0008/). The `pycodestyle_magic` package will remind you if you are not. To install it, run\n",
    "```\n",
    "pip install flake8 pycodestyle_magic\n",
    "```\n",
    "Once it is installed the following two Jupyter directives will enable syntax checking: -->\n",
    "\n",
    "## Homework tips \n",
    "\n",
    "1. **Start early!** If you run into trouble installing things or importing packages, it’s\n",
    "best to find those problems well in advance, not the night before your assignment is\n",
    "due when we cannot help you!\n",
    "\n",
    "2. **Make sure you back up your work!** At a minimum, do your work in a Dropbox\n",
    "folder. Better yet, use git, which is well worth your time and effort to learn.\n",
    "\n",
    "3. **Be careful to follow directions!** Remember that Python is case sensitive. If\n",
    "you are ask you to define a function called my_function and you define a function\n",
    "called My_Function, you will not receive full credit. You may want to copy-paste\n",
    "the function names below to make sure that the functions in your notebook match.\n",
    "\n",
    "## Error checking\n",
    "\n",
    "You do not need to do error checking (raising errors, etc.) in your code unless we explicitly ask you to so in a problem.\n",
    "\n",
    "## Coding style\n",
    "Please follow the [PEP8 guidelines](https://www.python.org/dev/peps/pep-0008/). The `pycodestyle_magic` package will remind you if you are not. To install it, run\n",
    "```\n",
    "pip install flake8 pycodestyle_magic\n",
    "```\n",
    "Once it is installed the following two Jupyter directives will enable syntax checking:\n",
    "\n",
    "\n",
    "## Nbgrader\n",
    "\n",
    "We will be using `nbgrader` to grade your jupyter notebook. You will notice some `read-only` cells in the assignment that contain `assert` statements. These are tests that your code must pass for your solution to be correct. If any of the tests fail, you will get an python error and not get points for that question. \n",
    "\n",
    "**Note:** The tests shown not are not comprehensive; additional tests will be used at grading time. You are encouraged to read the problem carefully and verify your code covers all possible cases.\n",
    "\n",
    "**Be careful:** If a jupyter notebook cell takes longer than `60s` to run, the autograder will not grade it and you will receive zero credit for that question."
   ]
  },
  {
   "cell_type": "code",
   "execution_count": 1,
   "metadata": {},
   "outputs": [],
   "source": [
    "import collections #when should I have used this package?\n",
    "import string\n",
    "import itertools"
   ]
  },
  {
   "cell_type": "markdown",
   "metadata": {},
   "source": [
    "---\n",
    "## Question 1: Infinite sequences (8 pts)\n",
    "For each of the problems below, write a function which generates the given infinite sequence. We should be able to use your generators to access any entry of the sequence no matter how deep."
   ]
  },
  {
   "cell_type": "markdown",
   "metadata": {},
   "source": [
    "**1(a)** (2 pts) The prime numbers are\n",
    "\n",
    "$$2, 3, 5, 7, 11, 13, 17, \\dots$$\n",
    "\n",
    "Give a generator for the primes. (Note: many algorithms exist for this problem. Yours should be efficient enough that we can use it to generate reasonably large prime numbers.)"
   ]
  },
  {
   "cell_type": "code",
   "execution_count": 2,
   "metadata": {},
   "outputs": [],
   "source": [
    "def primes():\n",
    "    h = 2\n",
    "    while True:\n",
    "        is_prime = True\n",
    "        for i in range(2, int(h**0.5) + 1): \n",
    "            if h % i == 0:\n",
    "                is_prime = False\n",
    "        if is_prime:\n",
    "            yield h\n",
    "        h += 1"
   ]
  },
  {
   "cell_type": "code",
   "execution_count": 3,
   "metadata": {},
   "outputs": [
    {
     "name": "stdout",
     "output_type": "stream",
     "text": [
      "48619\n"
     ]
    }
   ],
   "source": [
    "p = primes()\n",
    "for i in range(5000):\n",
    "    (next(p))\n",
    "print(next(p))"
   ]
  },
  {
   "cell_type": "code",
   "execution_count": 4,
   "metadata": {
    "deletable": false,
    "editable": false,
    "nbgrader": {
     "cell_type": "code",
     "checksum": "f31b467e2800e3317e5a1b5006743e1d",
     "grade": true,
     "grade_id": "correct_prime",
     "locked": false,
     "points": 2,
     "schema_version": 3,
     "solution": false
    }
   },
   "outputs": [],
   "source": [
    "\"\"\"Check that squares returns the correct output for several inputs\"\"\"\n",
    "p = primes()\n",
    "plist = [2,3,5,7,11,13,17,19,23,29]\n",
    "for i in range(10):\n",
    "    assert next(p) == plist[i]"
   ]
  },
  {
   "cell_type": "markdown",
   "metadata": {},
   "source": [
    "**1(b)** (3 pts) The *ruler sequence* is\n",
    "\n",
    "$$1, 2, 2, 3, 3, 4, 4, 4, 5, 5, 5, 6, 6, 6, 7, 7, 7, 7\\dots$$\n",
    "\n",
    "The first number (1) appears once; the next two numbers (2 and 3) appear twice, the next three numbers appear three times, etc.\n",
    "\n",
    "Hint: You are highly encouraged to use relevant functions from itertools to make your solution simple"
   ]
  },
  {
   "cell_type": "code",
   "execution_count": 5,
   "metadata": {
    "deletable": false,
    "editable": true,
    "nbgrader": {
     "cell_type": "code",
     "checksum": "78195e54db92fe7c15670ab17b6a2bdb",
     "grade": false,
     "grade_id": "ruler",
     "locked": false,
     "schema_version": 3,
     "solution": true
    },
    "slideshow": {
     "slide_type": ""
    },
    "tags": []
   },
   "outputs": [],
   "source": [
    "def ruler():\n",
    "    n = 1 #number i am starting on \n",
    "    reps = 1 #initial number of repetitions \n",
    "    adds = 0 #how many times ive added to n in a repeititon \n",
    "    while True:\n",
    "        for i in range(reps):\n",
    "            yield next(itertools.repeat(n,reps)) #for the number of reps yield n \n",
    "        n += 1 #now i increase my n \n",
    "        adds += 1 #and so if i increase my n that means adds has gone up \n",
    "        if adds == reps: #if adds equals the number of repeitions that means the numbers i am concerned about has appeared rep number of times\n",
    "            reps += 1 #increase the number of repeitions\n",
    "            adds = 0 #reset adds\n",
    "\n",
    "#i am not very familiar with itertools and it seems like there's a lot of functions so im curious about what would be the best thing to do for this\n",
    "#because i dont think what I did saved me much space"
   ]
  },
  {
   "cell_type": "code",
   "execution_count": 6,
   "metadata": {
    "deletable": false,
    "editable": false,
    "nbgrader": {
     "cell_type": "code",
     "checksum": "979320ad9c7632a1e856e748299790b2",
     "grade": true,
     "grade_id": "correct_ruler",
     "locked": false,
     "points": 3,
     "schema_version": 3,
     "solution": false
    }
   },
   "outputs": [],
   "source": [
    "r = ruler()\n",
    "ruler_numbers = [1, 2, 2, 3, 3, 4, 4, 4, 5, 5, 5, 6, 6, 6, 7, 7, 7, 7, 8, 8, 8, 8]\n",
    "for n in ruler_numbers:\n",
    "    assert next(r) == n"
   ]
  },
  {
   "cell_type": "markdown",
   "metadata": {},
   "source": [
    "**1(c)** (3 pts) The look-and-say sequence  \n",
    "\n",
    "$$1, 11, 21, 1211, 111221, 312211, 13112221, 1113213211, \\dots$$\n",
    "\n",
    "is generated as follows:\n",
    "\n",
    "1. The first entry is one.\n",
    "2. The second entry is generated by reading the first entry aloud: \"one one\"\n",
    "3. The third entry is generated by reading the second entry aloud: \"two ones\"\n",
    "4. The fourth entry is generated by reading the third entry aloud: \"one two and one one\"\n",
    "5. The fifth entry is therefore \"one one, one two, and two ones\"\n",
    "\n",
    "... and so forth. Note that each entry of the sequence should be a `str` object."
   ]
  },
  {
   "cell_type": "code",
   "execution_count": 7,
   "metadata": {
    "deletable": false,
    "editable": true,
    "nbgrader": {
     "cell_type": "code",
     "checksum": "be1e455a8fd4a19f6a11ae8f7f322185",
     "grade": false,
     "grade_id": "look_say",
     "locked": false,
     "schema_version": 3,
     "solution": true
    },
    "slideshow": {
     "slide_type": ""
    },
    "tags": []
   },
   "outputs": [],
   "source": [
    "def look_say():\n",
    "    line = \"1\"\n",
    "    while True:\n",
    "        if line == \"1\": #this part is jank but I just need a way to first spit out \"1\"\n",
    "            yield(line)\n",
    "        split = [] #splitting the word into groups based on repeating numbers\n",
    "        search = line[0] #first number im searching for\n",
    "        grab = [line[0]] #grab gets numbers added to it and then appended as a list to the list of lists that is split \n",
    "        for i in line[1:]: #going through the string besides the first digit which is specified as initial search\n",
    "            if i == search:  #if I find that search repeats in succession \n",
    "                grab.append(i) #I add that digit to grab\n",
    "            else:  #if the number following search isn't also search I do this \n",
    "                split.append(grab) #I add what's in grab so far to split \n",
    "                search = i #I switch search to the number I just landed on \n",
    "                grab = [i] #and I put this number into grab\n",
    "        split.append(grab) #once i go through all the numbers the list will run out and so whatever's left in grab has to be added to split \n",
    "        result = [] #i now have to say what I see\n",
    "        for i in split: #split will have lists that have lists of numbers \n",
    "            result.append(str(len(i))) #i will first say how many of a number is in a list in split \n",
    "            result.append(i[0]) #then the first number in the list in split is what that number is \n",
    "        result = \"\".join(result) #turn it into a nice string \n",
    "        line = result #change line to what i'll be outputting for next iteration\n",
    "        yield(result)"
   ]
  },
  {
   "cell_type": "code",
   "execution_count": 8,
   "metadata": {},
   "outputs": [
    {
     "name": "stdout",
     "output_type": "stream",
     "text": [
      "1\n",
      "11\n",
      "21\n",
      "1211\n",
      "111221\n",
      "312211\n",
      "13112221\n",
      "1113213211\n",
      "31131211131221\n",
      "13211311123113112211\n"
     ]
    }
   ],
   "source": [
    "s = look_say()\n",
    "for i in range(10):\n",
    "    print(next(s))"
   ]
  },
  {
   "cell_type": "code",
   "execution_count": 9,
   "metadata": {
    "deletable": false,
    "editable": false,
    "nbgrader": {
     "cell_type": "code",
     "checksum": "ba7a444ef7c89e731fdad7d890bfc99b",
     "grade": true,
     "grade_id": "correct_look_say",
     "locked": false,
     "points": 3,
     "schema_version": 3,
     "solution": false
    }
   },
   "outputs": [],
   "source": [
    "s = look_say()\n",
    "look_say_first_ten = ['1',\n",
    " '11',\n",
    " '21',\n",
    " '1211',\n",
    " '111221',\n",
    " '312211',\n",
    " '13112221',\n",
    " '1113213211',\n",
    " '31131211131221',\n",
    " '13211311123113112211']\n",
    "for i in range(10):\n",
    "    s_i = next(s)\n",
    "    assert isinstance(s_i, str)\n",
    "    assert s_i == look_say_first_ten[i]"
   ]
  },
  {
   "cell_type": "markdown",
   "metadata": {},
   "source": [
    "### Question 2: Simple ciphers (5 pts)\n",
    "\n",
    "A *cipher* is an algorithm for encrypting or decrypting a text message, called *plaintext*, into *ciphertext*. In this exercise, we will assume that all plaintext to be encrypted or decrypted are composed of the lower-case Roman alphabet, without any punctuation or whitespace. Examples of such messages could be\n",
    "\n",
    "```attackatdawn```\n",
    "\n",
    "or \n",
    "\n",
    "```iamajellyfilleddonut```."
   ]
  },
  {
   "cell_type": "code",
   "execution_count": 10,
   "metadata": {
    "deletable": false,
    "editable": true,
    "nbgrader": {
     "cell_type": "code",
     "checksum": "a3185d99ed95138bb5421ee329d95cb2",
     "grade": false,
     "grade_id": "enc_caesar",
     "locked": false,
     "schema_version": 3,
     "solution": true
    },
    "slideshow": {
     "slide_type": ""
    },
    "tags": []
   },
   "outputs": [],
   "source": [
    "def enc_caesar(s: str, k: int) -> str:\n",
    "    '''\n",
    "    Encrypt the message s using Ceasar cipher with key k.\n",
    "    \n",
    "    >>> enc_caeasar('thequickbrownfoxjumpsoverthelazydog', 1)\n",
    "    'uifrvjdlcspxogpykvnqtpwfsuifmbazeph'\n",
    "    '''\n",
    "    hold = list(s)\n",
    "    letters = string.ascii_lowercase\n",
    "    \n",
    "    while k > 26: \n",
    "       k -= 26\n",
    "    while k < -26:\n",
    "        k += 26\n",
    "    k = int(k)\n",
    "    for i in range(len(s)):\n",
    "        index = letters.find(s[i])\n",
    "        if index + k < 26:\n",
    "            hold[i] = letters[index+k]\n",
    "        else:\n",
    "            store = index+k - 26\n",
    "            hold[i] = letters[store]\n",
    "    return \"\".join(hold)"
   ]
  },
  {
   "cell_type": "code",
   "execution_count": 11,
   "metadata": {
    "deletable": false,
    "editable": false,
    "nbgrader": {
     "cell_type": "code",
     "checksum": "d34957a641578635957775375212a647",
     "grade": true,
     "grade_id": "correct_enc_caesar",
     "locked": false,
     "points": 2,
     "schema_version": 3,
     "solution": false
    }
   },
   "outputs": [],
   "source": [
    "public_tests = [('thequickbrownfoxjumpsoverthelazydog', 1, 'uifrvjdlcspxogpykvnqtpwfsuifmbazeph'), ('howdoesthiscodehandlewrapping', 18, 'zgovgwklzakugvwzsfvdwojshhafy'),('thekeycanbenegative', -3, 'qebhbvzxkybkbdxqfsb')]\n",
    "for msg, k, enc in public_tests:\n",
    "    assert enc_caesar(msg, k) == enc"
   ]
  },
  {
   "cell_type": "code",
   "execution_count": 12,
   "metadata": {
    "deletable": false,
    "editable": true,
    "nbgrader": {
     "cell_type": "code",
     "checksum": "14a77ac20f2ffe45f4a4f17e7610643e",
     "grade": false,
     "grade_id": "dec_caesar",
     "locked": false,
     "schema_version": 3,
     "solution": true
    },
    "slideshow": {
     "slide_type": ""
    },
    "tags": []
   },
   "outputs": [],
   "source": [
    "def dec_caesar(s: str, k: int) -> str:\n",
    "    '''\n",
    "    Decrypt the message s using Ceasar cypher with key k.\n",
    "    \n",
    "    >>> dec_caeasar('uifrvjdlcspxogpykvnqtpwfsuifmbazeph', 1)\n",
    "    'thequickbrownfoxjumpsoverthelazydog'\n",
    "    '''\n",
    "    while k > 26: \n",
    "       k -= 26\n",
    "    while k < -26:\n",
    "        k += 26\n",
    "    k = int(k)\n",
    "    hold = list(s)\n",
    "    letters = string.ascii_lowercase\n",
    "    for i in range(len(s)):\n",
    "        index = letters.find(s[i])\n",
    "        if index - k < 26:\n",
    "            hold[i] = letters[index-k]\n",
    "        else:\n",
    "            store = index-k-26\n",
    "            hold[i] = letters[store]\n",
    "    return \"\".join(hold)"
   ]
  },
  {
   "cell_type": "code",
   "execution_count": 13,
   "metadata": {
    "deletable": false,
    "editable": false,
    "nbgrader": {
     "cell_type": "code",
     "checksum": "cb49ed8a1d9b720a605beea4b18202dd",
     "grade": true,
     "grade_id": "correct_dec_caesar",
     "locked": false,
     "points": 3,
     "schema_version": 3,
     "solution": false
    }
   },
   "outputs": [],
   "source": [
    "public_tests = [('thequickbrownfoxjumpsoverthelazydog', 1, 'uifrvjdlcspxogpykvnqtpwfsuifmbazeph'), ('howdoesthiscodehandlewrapping', 18, 'zgovgwklzakugvwzsfvdwojshhafy'),('thekeycanbenegative', -3, 'qebhbvzxkybkbdxqfsb')]\n",
    "for msg, k, enc in public_tests: \n",
    "    assert dec_caesar(enc, k) == msg"
   ]
  },
  {
   "cell_type": "markdown",
   "metadata": {},
   "source": [
    "### Question 3 (5 pts) Valid String.\n",
    "Given a string s containing just the characters '(', ')', '{', '}', '[' and ']', determine if the input string is valid.\n",
    "\n",
    "An input string is valid if:\n",
    "\n",
    "1) Open brackets must be closed by the same type of brackets.\n",
    "2) Open brackets must be closed in the correct order.\n",
    "3) Every close bracket has a corresponding open bracket of the same type.\n"
   ]
  },
  {
   "cell_type": "code",
   "execution_count": 14,
   "metadata": {},
   "outputs": [],
   "source": [
    "def is_valid(s):\n",
    "    stack = []\n",
    "    bracket_map = {')': '(', '}': '{', ']': '['}\n",
    "    \n",
    "    for char in s:\n",
    "      #  print(\"Stack is\", stack)\n",
    "        if char in bracket_map:\n",
    "            if stack:\n",
    "                top_element = stack.pop()\n",
    "            else:\n",
    "                top_element = \"Fiddlesticks\"\n",
    "            if bracket_map[char] != top_element:\n",
    "                return False\n",
    "        else:\n",
    "            stack.append(char)\n",
    "    return not stack"
   ]
  },
  {
   "cell_type": "code",
   "execution_count": 15,
   "metadata": {
    "deletable": false,
    "editable": false,
    "nbgrader": {
     "cell_type": "code",
     "checksum": "2e0c2e9359f29fa50b933a2ef332aafa",
     "grade": true,
     "grade_id": "correct_is_valid",
     "locked": false,
     "points": 5,
     "schema_version": 3,
     "solution": false
    }
   },
   "outputs": [],
   "source": [
    "assert is_valid('()') == True\n",
    "assert is_valid('([{]}') == False\n",
    "assert is_valid('([{}])') == True"
   ]
  },
  {
   "cell_type": "code",
   "execution_count": null,
   "metadata": {},
   "outputs": [],
   "source": []
  }
 ],
 "metadata": {
  "kernelspec": {
   "display_name": "general",
   "language": "python",
   "name": "python3"
  },
  "language_info": {
   "codemirror_mode": {
    "name": "ipython",
    "version": 3
   },
   "file_extension": ".py",
   "mimetype": "text/x-python",
   "name": "python",
   "nbconvert_exporter": "python",
   "pygments_lexer": "ipython3",
   "version": "3.11.8"
  }
 },
 "nbformat": 4,
 "nbformat_minor": 4
}
